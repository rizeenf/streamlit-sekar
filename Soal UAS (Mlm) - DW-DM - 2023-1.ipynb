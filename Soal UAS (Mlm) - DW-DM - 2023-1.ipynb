{
 "cells": [
  {
   "cell_type": "markdown",
   "id": "39e64349",
   "metadata": {},
   "source": [
    "# <center>UAS (Malam) : Data Warehouse dan Data Mining</center>\n",
    "\n",
    "- NIM : 2021230056\n",
    "- Nama : RIZKI NURPADILAH"
   ]
  },
  {
   "cell_type": "markdown",
   "id": "93d84728",
   "metadata": {},
   "source": [
    "---"
   ]
  },
  {
   "cell_type": "markdown",
   "id": "d8297ab7",
   "metadata": {},
   "source": [
    "# <u>Soal :</u>\n",
    "## <font color=red>Berikut Program membangun model regresi (prediksi pembayaran premi asuransi), koreksi dan lengkapi jika ada yang perlu diperbaiki, simpan hasil/model-nya dan gunakan untuk membangun aplikasi web  dengan Streamlit, upload ke server streamlit !</font>"
   ]
  },
  {
   "cell_type": "markdown",
   "id": "4f6b4462",
   "metadata": {},
   "source": [
    "---"
   ]
  },
  {
   "cell_type": "code",
   "execution_count": 5,
   "id": "c89e29e5",
   "metadata": {
    "papermill": {
     "duration": 1.020135,
     "end_time": "2021-08-16T11:08:35.520911",
     "exception": false,
     "start_time": "2021-08-16T11:08:34.500776",
     "status": "completed"
    },
    "tags": []
   },
   "outputs": [],
   "source": [
    "import numpy as np\n",
    "import pandas as pd\n",
    "# import seaborn as sns\n",
    "# import matplotlib.pyplot as plt"
   ]
  },
  {
   "cell_type": "markdown",
   "id": "9a5ebfd6",
   "metadata": {
    "papermill": {
     "duration": 0.040594,
     "end_time": "2021-08-16T11:08:35.598908",
     "exception": false,
     "start_time": "2021-08-16T11:08:35.558314",
     "status": "completed"
    },
    "tags": []
   },
   "source": [
    "### Loading Dataset"
   ]
  },
  {
   "cell_type": "code",
   "execution_count": 6,
   "id": "25b4c8c2",
   "metadata": {
    "papermill": {
     "duration": 0.04406,
     "end_time": "2021-08-16T11:08:35.678628",
     "exception": false,
     "start_time": "2021-08-16T11:08:35.634568",
     "status": "completed"
    },
    "tags": []
   },
   "outputs": [
    {
     "data": {
      "text/html": [
       "<div>\n",
       "<style scoped>\n",
       "    .dataframe tbody tr th:only-of-type {\n",
       "        vertical-align: middle;\n",
       "    }\n",
       "\n",
       "    .dataframe tbody tr th {\n",
       "        vertical-align: top;\n",
       "    }\n",
       "\n",
       "    .dataframe thead th {\n",
       "        text-align: right;\n",
       "    }\n",
       "</style>\n",
       "<table border=\"1\" class=\"dataframe\">\n",
       "  <thead>\n",
       "    <tr style=\"text-align: right;\">\n",
       "      <th></th>\n",
       "      <th>age</th>\n",
       "      <th>sex</th>\n",
       "      <th>bmi</th>\n",
       "      <th>children</th>\n",
       "      <th>smoker</th>\n",
       "      <th>charges</th>\n",
       "    </tr>\n",
       "  </thead>\n",
       "  <tbody>\n",
       "    <tr>\n",
       "      <th>0</th>\n",
       "      <td>19</td>\n",
       "      <td>0</td>\n",
       "      <td>27.900</td>\n",
       "      <td>0</td>\n",
       "      <td>1</td>\n",
       "      <td>16884.92400</td>\n",
       "    </tr>\n",
       "    <tr>\n",
       "      <th>1</th>\n",
       "      <td>18</td>\n",
       "      <td>1</td>\n",
       "      <td>33.770</td>\n",
       "      <td>1</td>\n",
       "      <td>0</td>\n",
       "      <td>1725.55230</td>\n",
       "    </tr>\n",
       "    <tr>\n",
       "      <th>2</th>\n",
       "      <td>28</td>\n",
       "      <td>1</td>\n",
       "      <td>33.000</td>\n",
       "      <td>3</td>\n",
       "      <td>0</td>\n",
       "      <td>4449.46200</td>\n",
       "    </tr>\n",
       "    <tr>\n",
       "      <th>3</th>\n",
       "      <td>33</td>\n",
       "      <td>1</td>\n",
       "      <td>22.705</td>\n",
       "      <td>0</td>\n",
       "      <td>0</td>\n",
       "      <td>21984.47061</td>\n",
       "    </tr>\n",
       "    <tr>\n",
       "      <th>4</th>\n",
       "      <td>32</td>\n",
       "      <td>1</td>\n",
       "      <td>28.880</td>\n",
       "      <td>0</td>\n",
       "      <td>0</td>\n",
       "      <td>3866.85520</td>\n",
       "    </tr>\n",
       "  </tbody>\n",
       "</table>\n",
       "</div>"
      ],
      "text/plain": [
       "   age  sex     bmi  children  smoker      charges\n",
       "0   19    0  27.900         0       1  16884.92400\n",
       "1   18    1  33.770         1       0   1725.55230\n",
       "2   28    1  33.000         3       0   4449.46200\n",
       "3   33    1  22.705         0       0  21984.47061\n",
       "4   32    1  28.880         0       0   3866.85520"
      ]
     },
     "execution_count": 6,
     "metadata": {},
     "output_type": "execute_result"
    }
   ],
   "source": [
    "df = pd.read_csv('insurance1.csv')\n",
    "df.head()"
   ]
  },
  {
   "cell_type": "code",
   "execution_count": 7,
   "id": "c9942d3e",
   "metadata": {
    "papermill": {
     "duration": 0.053971,
     "end_time": "2021-08-16T11:08:35.909771",
     "exception": false,
     "start_time": "2021-08-16T11:08:35.855800",
     "status": "completed"
    },
    "tags": []
   },
   "outputs": [
    {
     "name": "stdout",
     "output_type": "stream",
     "text": [
      "<class 'pandas.core.frame.DataFrame'>\n",
      "RangeIndex: 348 entries, 0 to 347\n",
      "Data columns (total 6 columns):\n",
      " #   Column    Non-Null Count  Dtype  \n",
      "---  ------    --------------  -----  \n",
      " 0   age       348 non-null    int64  \n",
      " 1   sex       348 non-null    int64  \n",
      " 2   bmi       348 non-null    float64\n",
      " 3   children  348 non-null    int64  \n",
      " 4   smoker    348 non-null    int64  \n",
      " 5   charges   348 non-null    float64\n",
      "dtypes: float64(2), int64(4)\n",
      "memory usage: 16.4 KB\n"
     ]
    }
   ],
   "source": [
    "df.info()"
   ]
  },
  {
   "cell_type": "code",
   "execution_count": 8,
   "id": "0fbc1610",
   "metadata": {
    "papermill": {
     "duration": 0.06573,
     "end_time": "2021-08-16T11:08:36.002298",
     "exception": false,
     "start_time": "2021-08-16T11:08:35.936568",
     "status": "completed"
    },
    "tags": []
   },
   "outputs": [
    {
     "data": {
      "text/html": [
       "<div>\n",
       "<style scoped>\n",
       "    .dataframe tbody tr th:only-of-type {\n",
       "        vertical-align: middle;\n",
       "    }\n",
       "\n",
       "    .dataframe tbody tr th {\n",
       "        vertical-align: top;\n",
       "    }\n",
       "\n",
       "    .dataframe thead th {\n",
       "        text-align: right;\n",
       "    }\n",
       "</style>\n",
       "<table border=\"1\" class=\"dataframe\">\n",
       "  <thead>\n",
       "    <tr style=\"text-align: right;\">\n",
       "      <th></th>\n",
       "      <th>age</th>\n",
       "      <th>sex</th>\n",
       "      <th>bmi</th>\n",
       "      <th>children</th>\n",
       "      <th>smoker</th>\n",
       "      <th>charges</th>\n",
       "    </tr>\n",
       "  </thead>\n",
       "  <tbody>\n",
       "    <tr>\n",
       "      <th>count</th>\n",
       "      <td>348.000000</td>\n",
       "      <td>348.000000</td>\n",
       "      <td>348.000000</td>\n",
       "      <td>348.000000</td>\n",
       "      <td>348.000000</td>\n",
       "      <td>348.000000</td>\n",
       "    </tr>\n",
       "    <tr>\n",
       "      <th>mean</th>\n",
       "      <td>39.591954</td>\n",
       "      <td>0.508621</td>\n",
       "      <td>30.676552</td>\n",
       "      <td>1.091954</td>\n",
       "      <td>0.232759</td>\n",
       "      <td>14016.426293</td>\n",
       "    </tr>\n",
       "    <tr>\n",
       "      <th>std</th>\n",
       "      <td>14.417015</td>\n",
       "      <td>0.500646</td>\n",
       "      <td>5.625850</td>\n",
       "      <td>1.192021</td>\n",
       "      <td>0.423198</td>\n",
       "      <td>12638.887852</td>\n",
       "    </tr>\n",
       "    <tr>\n",
       "      <th>min</th>\n",
       "      <td>18.000000</td>\n",
       "      <td>0.000000</td>\n",
       "      <td>15.960000</td>\n",
       "      <td>0.000000</td>\n",
       "      <td>0.000000</td>\n",
       "      <td>1137.011000</td>\n",
       "    </tr>\n",
       "    <tr>\n",
       "      <th>25%</th>\n",
       "      <td>27.000000</td>\n",
       "      <td>0.000000</td>\n",
       "      <td>26.782500</td>\n",
       "      <td>0.000000</td>\n",
       "      <td>0.000000</td>\n",
       "      <td>4888.466125</td>\n",
       "    </tr>\n",
       "    <tr>\n",
       "      <th>50%</th>\n",
       "      <td>40.000000</td>\n",
       "      <td>1.000000</td>\n",
       "      <td>30.300000</td>\n",
       "      <td>1.000000</td>\n",
       "      <td>0.000000</td>\n",
       "      <td>9719.305250</td>\n",
       "    </tr>\n",
       "    <tr>\n",
       "      <th>75%</th>\n",
       "      <td>53.000000</td>\n",
       "      <td>1.000000</td>\n",
       "      <td>34.777500</td>\n",
       "      <td>2.000000</td>\n",
       "      <td>0.000000</td>\n",
       "      <td>19006.316150</td>\n",
       "    </tr>\n",
       "    <tr>\n",
       "      <th>max</th>\n",
       "      <td>64.000000</td>\n",
       "      <td>1.000000</td>\n",
       "      <td>49.060000</td>\n",
       "      <td>5.000000</td>\n",
       "      <td>1.000000</td>\n",
       "      <td>51194.559140</td>\n",
       "    </tr>\n",
       "  </tbody>\n",
       "</table>\n",
       "</div>"
      ],
      "text/plain": [
       "              age         sex         bmi    children      smoker  \\\n",
       "count  348.000000  348.000000  348.000000  348.000000  348.000000   \n",
       "mean    39.591954    0.508621   30.676552    1.091954    0.232759   \n",
       "std     14.417015    0.500646    5.625850    1.192021    0.423198   \n",
       "min     18.000000    0.000000   15.960000    0.000000    0.000000   \n",
       "25%     27.000000    0.000000   26.782500    0.000000    0.000000   \n",
       "50%     40.000000    1.000000   30.300000    1.000000    0.000000   \n",
       "75%     53.000000    1.000000   34.777500    2.000000    0.000000   \n",
       "max     64.000000    1.000000   49.060000    5.000000    1.000000   \n",
       "\n",
       "            charges  \n",
       "count    348.000000  \n",
       "mean   14016.426293  \n",
       "std    12638.887852  \n",
       "min     1137.011000  \n",
       "25%     4888.466125  \n",
       "50%     9719.305250  \n",
       "75%    19006.316150  \n",
       "max    51194.559140  "
      ]
     },
     "execution_count": 8,
     "metadata": {},
     "output_type": "execute_result"
    }
   ],
   "source": [
    "df.describe()"
   ]
  },
  {
   "cell_type": "code",
   "execution_count": 9,
   "id": "e236d13c",
   "metadata": {
    "papermill": {
     "duration": 0.040857,
     "end_time": "2021-08-16T11:08:36.074877",
     "exception": false,
     "start_time": "2021-08-16T11:08:36.034020",
     "status": "completed"
    },
    "tags": []
   },
   "outputs": [
    {
     "data": {
      "text/plain": [
       "age         0\n",
       "sex         0\n",
       "bmi         0\n",
       "children    0\n",
       "smoker      0\n",
       "charges     0\n",
       "dtype: int64"
      ]
     },
     "execution_count": 9,
     "metadata": {},
     "output_type": "execute_result"
    }
   ],
   "source": [
    "df.isna().sum()"
   ]
  },
  {
   "cell_type": "markdown",
   "id": "b7b9f89c",
   "metadata": {},
   "source": [
    "### Data Preparation - Mengubah data categorical ke numeric\n",
    "Perbaiki jika ada ERROR"
   ]
  },
  {
   "cell_type": "code",
   "execution_count": 10,
   "id": "50e1a0fd",
   "metadata": {
    "papermill": {
     "duration": 0.165585,
     "end_time": "2021-08-16T11:08:36.321834",
     "exception": false,
     "start_time": "2021-08-16T11:08:36.156249",
     "status": "completed"
    },
    "tags": []
   },
   "outputs": [],
   "source": [
    "from sklearn.preprocessing import OrdinalEncoder\n",
    "oe=OrdinalEncoder()\n",
    "# df[['sex','smoker','region']]=oe.fit_transform(df[['sex','smoker','region']])\n",
    "df[['sex','smoker']]=oe.fit_transform(df[['sex','smoker']])"
   ]
  },
  {
   "cell_type": "code",
   "execution_count": 11,
   "id": "ef3cbaff",
   "metadata": {
    "papermill": {
     "duration": 0.039618,
     "end_time": "2021-08-16T11:08:36.388340",
     "exception": false,
     "start_time": "2021-08-16T11:08:36.348722",
     "status": "completed"
    },
    "tags": []
   },
   "outputs": [],
   "source": [
    "# df[['sex','smoker','region']]=df[['sex','smoker','region']].astype(int)\n",
    "df[['sex','smoker']]=df[['sex','smoker']].astype(int)"
   ]
  },
  {
   "cell_type": "code",
   "execution_count": 12,
   "id": "9cf2b853",
   "metadata": {
    "papermill": {
     "duration": 0.044342,
     "end_time": "2021-08-16T11:08:36.460463",
     "exception": false,
     "start_time": "2021-08-16T11:08:36.416121",
     "status": "completed"
    },
    "tags": []
   },
   "outputs": [
    {
     "data": {
      "text/html": [
       "<div>\n",
       "<style scoped>\n",
       "    .dataframe tbody tr th:only-of-type {\n",
       "        vertical-align: middle;\n",
       "    }\n",
       "\n",
       "    .dataframe tbody tr th {\n",
       "        vertical-align: top;\n",
       "    }\n",
       "\n",
       "    .dataframe thead th {\n",
       "        text-align: right;\n",
       "    }\n",
       "</style>\n",
       "<table border=\"1\" class=\"dataframe\">\n",
       "  <thead>\n",
       "    <tr style=\"text-align: right;\">\n",
       "      <th></th>\n",
       "      <th>age</th>\n",
       "      <th>sex</th>\n",
       "      <th>bmi</th>\n",
       "      <th>children</th>\n",
       "      <th>smoker</th>\n",
       "      <th>charges</th>\n",
       "    </tr>\n",
       "  </thead>\n",
       "  <tbody>\n",
       "    <tr>\n",
       "      <th>0</th>\n",
       "      <td>19</td>\n",
       "      <td>0</td>\n",
       "      <td>27.900</td>\n",
       "      <td>0</td>\n",
       "      <td>1</td>\n",
       "      <td>16884.92400</td>\n",
       "    </tr>\n",
       "    <tr>\n",
       "      <th>1</th>\n",
       "      <td>18</td>\n",
       "      <td>1</td>\n",
       "      <td>33.770</td>\n",
       "      <td>1</td>\n",
       "      <td>0</td>\n",
       "      <td>1725.55230</td>\n",
       "    </tr>\n",
       "    <tr>\n",
       "      <th>2</th>\n",
       "      <td>28</td>\n",
       "      <td>1</td>\n",
       "      <td>33.000</td>\n",
       "      <td>3</td>\n",
       "      <td>0</td>\n",
       "      <td>4449.46200</td>\n",
       "    </tr>\n",
       "    <tr>\n",
       "      <th>3</th>\n",
       "      <td>33</td>\n",
       "      <td>1</td>\n",
       "      <td>22.705</td>\n",
       "      <td>0</td>\n",
       "      <td>0</td>\n",
       "      <td>21984.47061</td>\n",
       "    </tr>\n",
       "    <tr>\n",
       "      <th>4</th>\n",
       "      <td>32</td>\n",
       "      <td>1</td>\n",
       "      <td>28.880</td>\n",
       "      <td>0</td>\n",
       "      <td>0</td>\n",
       "      <td>3866.85520</td>\n",
       "    </tr>\n",
       "  </tbody>\n",
       "</table>\n",
       "</div>"
      ],
      "text/plain": [
       "   age  sex     bmi  children  smoker      charges\n",
       "0   19    0  27.900         0       1  16884.92400\n",
       "1   18    1  33.770         1       0   1725.55230\n",
       "2   28    1  33.000         3       0   4449.46200\n",
       "3   33    1  22.705         0       0  21984.47061\n",
       "4   32    1  28.880         0       0   3866.85520"
      ]
     },
     "execution_count": 12,
     "metadata": {},
     "output_type": "execute_result"
    }
   ],
   "source": [
    "df.head()"
   ]
  },
  {
   "cell_type": "code",
   "execution_count": 13,
   "id": "ed5a38e6",
   "metadata": {
    "papermill": {
     "duration": 0.038102,
     "end_time": "2021-08-16T11:08:36.527501",
     "exception": false,
     "start_time": "2021-08-16T11:08:36.489399",
     "status": "completed"
    },
    "tags": []
   },
   "outputs": [
    {
     "data": {
      "text/plain": [
       "Index(['age', 'sex', 'bmi', 'children', 'smoker', 'charges'], dtype='object')"
      ]
     },
     "execution_count": 13,
     "metadata": {},
     "output_type": "execute_result"
    }
   ],
   "source": [
    "df.columns"
   ]
  },
  {
   "cell_type": "markdown",
   "id": "047238b9",
   "metadata": {
    "papermill": {
     "duration": 0.043948,
     "end_time": "2021-08-16T11:08:50.888055",
     "exception": false,
     "start_time": "2021-08-16T11:08:50.844107",
     "status": "completed"
    },
    "tags": []
   },
   "source": [
    "### Memisah Feature dan Label"
   ]
  },
  {
   "cell_type": "code",
   "execution_count": 14,
   "id": "a713092d",
   "metadata": {
    "papermill": {
     "duration": 0.053915,
     "end_time": "2021-08-16T11:08:50.985104",
     "exception": false,
     "start_time": "2021-08-16T11:08:50.931189",
     "status": "completed"
    },
    "tags": []
   },
   "outputs": [],
   "source": [
    "target=df['charges']\n",
    "features=df.drop(columns=['charges'])"
   ]
  },
  {
   "cell_type": "code",
   "execution_count": 15,
   "id": "7cb18038",
   "metadata": {
    "papermill": {
     "duration": 0.058302,
     "end_time": "2021-08-16T11:08:51.086514",
     "exception": false,
     "start_time": "2021-08-16T11:08:51.028212",
     "status": "completed"
    },
    "tags": []
   },
   "outputs": [],
   "source": [
    "#Standardization\n",
    "from sklearn.preprocessing import StandardScaler\n",
    "sc=StandardScaler()\n",
    "features=sc.fit_transform(features)"
   ]
  },
  {
   "cell_type": "code",
   "execution_count": 16,
   "id": "7370fef3",
   "metadata": {
    "papermill": {
     "duration": 0.061061,
     "end_time": "2021-08-16T11:08:51.192379",
     "exception": false,
     "start_time": "2021-08-16T11:08:51.131318",
     "status": "completed"
    },
    "tags": []
   },
   "outputs": [
    {
     "data": {
      "text/html": [
       "<div>\n",
       "<style scoped>\n",
       "    .dataframe tbody tr th:only-of-type {\n",
       "        vertical-align: middle;\n",
       "    }\n",
       "\n",
       "    .dataframe tbody tr th {\n",
       "        vertical-align: top;\n",
       "    }\n",
       "\n",
       "    .dataframe thead th {\n",
       "        text-align: right;\n",
       "    }\n",
       "</style>\n",
       "<table border=\"1\" class=\"dataframe\">\n",
       "  <thead>\n",
       "    <tr style=\"text-align: right;\">\n",
       "      <th></th>\n",
       "      <th>0</th>\n",
       "      <th>1</th>\n",
       "      <th>2</th>\n",
       "      <th>3</th>\n",
       "      <th>4</th>\n",
       "    </tr>\n",
       "  </thead>\n",
       "  <tbody>\n",
       "    <tr>\n",
       "      <th>0</th>\n",
       "      <td>-1.430366</td>\n",
       "      <td>-1.017393</td>\n",
       "      <td>-0.494245</td>\n",
       "      <td>-0.917371</td>\n",
       "      <td>1.815571</td>\n",
       "    </tr>\n",
       "    <tr>\n",
       "      <th>1</th>\n",
       "      <td>-1.499828</td>\n",
       "      <td>0.982905</td>\n",
       "      <td>0.550655</td>\n",
       "      <td>-0.077252</td>\n",
       "      <td>-0.550791</td>\n",
       "    </tr>\n",
       "    <tr>\n",
       "      <th>2</th>\n",
       "      <td>-0.805205</td>\n",
       "      <td>0.982905</td>\n",
       "      <td>0.413590</td>\n",
       "      <td>1.602986</td>\n",
       "      <td>-0.550791</td>\n",
       "    </tr>\n",
       "    <tr>\n",
       "      <th>3</th>\n",
       "      <td>-0.457893</td>\n",
       "      <td>0.982905</td>\n",
       "      <td>-1.418991</td>\n",
       "      <td>-0.917371</td>\n",
       "      <td>-0.550791</td>\n",
       "    </tr>\n",
       "    <tr>\n",
       "      <th>4</th>\n",
       "      <td>-0.527355</td>\n",
       "      <td>0.982905</td>\n",
       "      <td>-0.319799</td>\n",
       "      <td>-0.917371</td>\n",
       "      <td>-0.550791</td>\n",
       "    </tr>\n",
       "  </tbody>\n",
       "</table>\n",
       "</div>"
      ],
      "text/plain": [
       "          0         1         2         3         4\n",
       "0 -1.430366 -1.017393 -0.494245 -0.917371  1.815571\n",
       "1 -1.499828  0.982905  0.550655 -0.077252 -0.550791\n",
       "2 -0.805205  0.982905  0.413590  1.602986 -0.550791\n",
       "3 -0.457893  0.982905 -1.418991 -0.917371 -0.550791\n",
       "4 -0.527355  0.982905 -0.319799 -0.917371 -0.550791"
      ]
     },
     "execution_count": 16,
     "metadata": {},
     "output_type": "execute_result"
    }
   ],
   "source": [
    "pd.DataFrame(features[:5])"
   ]
  },
  {
   "cell_type": "markdown",
   "id": "c1d9d7ca",
   "metadata": {
    "papermill": {
     "duration": 0.044206,
     "end_time": "2021-08-16T11:08:51.281618",
     "exception": false,
     "start_time": "2021-08-16T11:08:51.237412",
     "status": "completed"
    },
    "tags": []
   },
   "source": [
    "### Membangun Model"
   ]
  },
  {
   "cell_type": "code",
   "execution_count": 17,
   "id": "b68f65a3",
   "metadata": {
    "papermill": {
     "duration": 0.19556,
     "end_time": "2021-08-16T11:08:51.522815",
     "exception": false,
     "start_time": "2021-08-16T11:08:51.327255",
     "status": "completed"
    },
    "tags": []
   },
   "outputs": [],
   "source": [
    "from sklearn.model_selection import train_test_split\n",
    "from sklearn.linear_model import LinearRegression"
   ]
  },
  {
   "cell_type": "code",
   "execution_count": 18,
   "id": "5e7a7537",
   "metadata": {
    "papermill": {
     "duration": 0.055111,
     "end_time": "2021-08-16T11:08:51.622257",
     "exception": false,
     "start_time": "2021-08-16T11:08:51.567146",
     "status": "completed"
    },
    "tags": []
   },
   "outputs": [],
   "source": [
    "x_train,x_test,y_train,y_test=train_test_split(features,target,shuffle=True,train_size=0.8,random_state=1)"
   ]
  },
  {
   "cell_type": "code",
   "execution_count": 19,
   "id": "0051abed",
   "metadata": {
    "papermill": {
     "duration": 0.05331,
     "end_time": "2021-08-16T11:08:51.719861",
     "exception": false,
     "start_time": "2021-08-16T11:08:51.666551",
     "status": "completed"
    },
    "tags": []
   },
   "outputs": [
    {
     "data": {
      "text/plain": [
       "278"
      ]
     },
     "execution_count": 19,
     "metadata": {},
     "output_type": "execute_result"
    }
   ],
   "source": [
    "len(x_train)"
   ]
  },
  {
   "cell_type": "code",
   "execution_count": 20,
   "id": "218f4d75",
   "metadata": {
    "papermill": {
     "duration": 0.054298,
     "end_time": "2021-08-16T11:08:51.818404",
     "exception": false,
     "start_time": "2021-08-16T11:08:51.764106",
     "status": "completed"
    },
    "tags": []
   },
   "outputs": [
    {
     "data": {
      "text/plain": [
       "70"
      ]
     },
     "execution_count": 20,
     "metadata": {},
     "output_type": "execute_result"
    }
   ],
   "source": [
    "len(x_test)"
   ]
  },
  {
   "cell_type": "code",
   "execution_count": 21,
   "id": "71077bb4",
   "metadata": {
    "papermill": {
     "duration": 0.252246,
     "end_time": "2021-08-16T11:08:52.115367",
     "exception": false,
     "start_time": "2021-08-16T11:08:51.863121",
     "status": "completed"
    },
    "tags": []
   },
   "outputs": [
    {
     "data": {
      "text/html": [
       "<style>#sk-container-id-1 {color: black;background-color: white;}#sk-container-id-1 pre{padding: 0;}#sk-container-id-1 div.sk-toggleable {background-color: white;}#sk-container-id-1 label.sk-toggleable__label {cursor: pointer;display: block;width: 100%;margin-bottom: 0;padding: 0.3em;box-sizing: border-box;text-align: center;}#sk-container-id-1 label.sk-toggleable__label-arrow:before {content: \"▸\";float: left;margin-right: 0.25em;color: #696969;}#sk-container-id-1 label.sk-toggleable__label-arrow:hover:before {color: black;}#sk-container-id-1 div.sk-estimator:hover label.sk-toggleable__label-arrow:before {color: black;}#sk-container-id-1 div.sk-toggleable__content {max-height: 0;max-width: 0;overflow: hidden;text-align: left;background-color: #f0f8ff;}#sk-container-id-1 div.sk-toggleable__content pre {margin: 0.2em;color: black;border-radius: 0.25em;background-color: #f0f8ff;}#sk-container-id-1 input.sk-toggleable__control:checked~div.sk-toggleable__content {max-height: 200px;max-width: 100%;overflow: auto;}#sk-container-id-1 input.sk-toggleable__control:checked~label.sk-toggleable__label-arrow:before {content: \"▾\";}#sk-container-id-1 div.sk-estimator input.sk-toggleable__control:checked~label.sk-toggleable__label {background-color: #d4ebff;}#sk-container-id-1 div.sk-label input.sk-toggleable__control:checked~label.sk-toggleable__label {background-color: #d4ebff;}#sk-container-id-1 input.sk-hidden--visually {border: 0;clip: rect(1px 1px 1px 1px);clip: rect(1px, 1px, 1px, 1px);height: 1px;margin: -1px;overflow: hidden;padding: 0;position: absolute;width: 1px;}#sk-container-id-1 div.sk-estimator {font-family: monospace;background-color: #f0f8ff;border: 1px dotted black;border-radius: 0.25em;box-sizing: border-box;margin-bottom: 0.5em;}#sk-container-id-1 div.sk-estimator:hover {background-color: #d4ebff;}#sk-container-id-1 div.sk-parallel-item::after {content: \"\";width: 100%;border-bottom: 1px solid gray;flex-grow: 1;}#sk-container-id-1 div.sk-label:hover label.sk-toggleable__label {background-color: #d4ebff;}#sk-container-id-1 div.sk-serial::before {content: \"\";position: absolute;border-left: 1px solid gray;box-sizing: border-box;top: 0;bottom: 0;left: 50%;z-index: 0;}#sk-container-id-1 div.sk-serial {display: flex;flex-direction: column;align-items: center;background-color: white;padding-right: 0.2em;padding-left: 0.2em;position: relative;}#sk-container-id-1 div.sk-item {position: relative;z-index: 1;}#sk-container-id-1 div.sk-parallel {display: flex;align-items: stretch;justify-content: center;background-color: white;position: relative;}#sk-container-id-1 div.sk-item::before, #sk-container-id-1 div.sk-parallel-item::before {content: \"\";position: absolute;border-left: 1px solid gray;box-sizing: border-box;top: 0;bottom: 0;left: 50%;z-index: -1;}#sk-container-id-1 div.sk-parallel-item {display: flex;flex-direction: column;z-index: 1;position: relative;background-color: white;}#sk-container-id-1 div.sk-parallel-item:first-child::after {align-self: flex-end;width: 50%;}#sk-container-id-1 div.sk-parallel-item:last-child::after {align-self: flex-start;width: 50%;}#sk-container-id-1 div.sk-parallel-item:only-child::after {width: 0;}#sk-container-id-1 div.sk-dashed-wrapped {border: 1px dashed gray;margin: 0 0.4em 0.5em 0.4em;box-sizing: border-box;padding-bottom: 0.4em;background-color: white;}#sk-container-id-1 div.sk-label label {font-family: monospace;font-weight: bold;display: inline-block;line-height: 1.2em;}#sk-container-id-1 div.sk-label-container {text-align: center;}#sk-container-id-1 div.sk-container {/* jupyter's `normalize.less` sets `[hidden] { display: none; }` but bootstrap.min.css set `[hidden] { display: none !important; }` so we also need the `!important` here to be able to override the default hidden behavior on the sphinx rendered scikit-learn.org. See: https://github.com/scikit-learn/scikit-learn/issues/21755 */display: inline-block !important;position: relative;}#sk-container-id-1 div.sk-text-repr-fallback {display: none;}</style><div id=\"sk-container-id-1\" class=\"sk-top-container\"><div class=\"sk-text-repr-fallback\"><pre>LinearRegression()</pre><b>In a Jupyter environment, please rerun this cell to show the HTML representation or trust the notebook. <br />On GitHub, the HTML representation is unable to render, please try loading this page with nbviewer.org.</b></div><div class=\"sk-container\" hidden><div class=\"sk-item\"><div class=\"sk-estimator sk-toggleable\"><input class=\"sk-toggleable__control sk-hidden--visually\" id=\"sk-estimator-id-1\" type=\"checkbox\" checked><label for=\"sk-estimator-id-1\" class=\"sk-toggleable__label sk-toggleable__label-arrow\">LinearRegression</label><div class=\"sk-toggleable__content\"><pre>LinearRegression()</pre></div></div></div></div></div>"
      ],
      "text/plain": [
       "LinearRegression()"
      ]
     },
     "execution_count": 21,
     "metadata": {},
     "output_type": "execute_result"
    }
   ],
   "source": [
    "#Training\n",
    "model_uas=LinearRegression()\n",
    "model_uas.fit(x_train,y_train)"
   ]
  },
  {
   "cell_type": "markdown",
   "id": "b47f6640",
   "metadata": {},
   "source": [
    "### Evaluasi"
   ]
  },
  {
   "cell_type": "code",
   "execution_count": 22,
   "id": "0747be95",
   "metadata": {
    "papermill": {
     "duration": 0.058566,
     "end_time": "2021-08-16T11:08:52.218975",
     "exception": false,
     "start_time": "2021-08-16T11:08:52.160409",
     "status": "completed"
    },
    "tags": []
   },
   "outputs": [
    {
     "name": "stdout",
     "output_type": "stream",
     "text": [
      "r2 score : 0.7949274180222381\n",
      "MSE : 27448376.079466797\n"
     ]
    }
   ],
   "source": [
    "from sklearn.metrics import r2_score,mean_squared_error\n",
    "pred=model_uas.predict(x_test)\n",
    "print('r2 score :',r2_score(y_test,pred))\n",
    "print('MSE :',mean_squared_error(y_test,pred))"
   ]
  },
  {
   "cell_type": "code",
   "execution_count": 23,
   "id": "193dbf46",
   "metadata": {
    "papermill": {
     "duration": 0.057086,
     "end_time": "2021-08-16T11:08:52.320710",
     "exception": false,
     "start_time": "2021-08-16T11:08:52.263624",
     "status": "completed"
    },
    "tags": []
   },
   "outputs": [
    {
     "name": "stdout",
     "output_type": "stream",
     "text": [
      "[32357.41109762  5506.53608861  5567.19663848 26292.94660909\n",
      " 34326.34056167]\n",
      "85     21098.55405\n",
      "191     4883.86600\n",
      "107     3877.30425\n",
      "105    17560.37975\n",
      "123    39556.49450\n",
      "Name: charges, dtype: float64\n"
     ]
    }
   ],
   "source": [
    "print(pred[:5])\n",
    "print(y_test[:5])"
   ]
  },
  {
   "cell_type": "markdown",
   "id": "673eb316",
   "metadata": {},
   "source": [
    "### Menyimpan Model untuk Deployment"
   ]
  },
  {
   "cell_type": "markdown",
   "id": "4458a393",
   "metadata": {},
   "source": [
    "Install pickle jika belum ada\n",
    "\n",
    "  !pip install pickle-mixin"
   ]
  },
  {
   "cell_type": "code",
   "execution_count": 24,
   "id": "0e43ab5a",
   "metadata": {},
   "outputs": [],
   "source": [
    "import pickle\n",
    "\n",
    "pickle.dump(model_uas,open('model_uas.pkl','wb'))"
   ]
  },
  {
   "cell_type": "markdown",
   "id": "f9bc5314",
   "metadata": {},
   "source": [
    "Cek file model_uas.pkl, dan gunakan sebagai model saat membangun aplikasi web berbasis streamlit"
   ]
  },
  {
   "cell_type": "markdown",
   "id": "bcaed454",
   "metadata": {},
   "source": [
    "---\n",
    "### Clue \n",
    "Untuk membangun model ini ke aplikasi web streamlit :\n",
    "- Model terdiri dari 5 atribut input dan 1 output : \n",
    "\n",
    "  INPUT :\n",
    "  - 'age', umur\n",
    "  - 'sex',  jenis kelamin\n",
    "  - 'bmi',  berat\n",
    "  - 'children',  jumlah anak\n",
    "  - 'smoker',  perokok atau tidak\n",
    "  \n",
    "  OUTPUT\n",
    "  - charges, besar iuran asuransi per bulan\n",
    "  "
   ]
  },
  {
   "cell_type": "code",
   "execution_count": 42,
   "id": "3fb2f2cb",
   "metadata": {},
   "outputs": [
    {
     "name": "stdout",
     "output_type": "stream",
     "text": [
      "<class 'pandas.core.frame.DataFrame'>\n",
      "RangeIndex: 348 entries, 0 to 347\n",
      "Data columns (total 6 columns):\n",
      " #   Column    Non-Null Count  Dtype  \n",
      "---  ------    --------------  -----  \n",
      " 0   age       348 non-null    int64  \n",
      " 1   sex       348 non-null    int64  \n",
      " 2   bmi       348 non-null    float64\n",
      " 3   children  348 non-null    int64  \n",
      " 4   smoker    348 non-null    int64  \n",
      " 5   charges   348 non-null    float64\n",
      "dtypes: float64(2), int64(4)\n",
      "memory usage: 16.4 KB\n",
      "Jumlah data latih: 278\n",
      "Jumlah data uji: 70\n",
      "R-squared Score: 0.79\n",
      "Mean Squared Error: 27448376.08\n",
      "[32357.41109762  5506.53608861  5567.19663848 26292.94660909\n",
      " 34326.34056167]\n",
      "85     21098.55405\n",
      "191     4883.86600\n",
      "107     3877.30425\n",
      "105    17560.37975\n",
      "123    39556.49450\n",
      "Name: charges, dtype: float64\n",
      "Prediksi Pembayaran premi:  [185728.22113982]\n"
     ]
    }
   ],
   "source": [
    "import numpy as np\n",
    "import pandas as pd\n",
    "\n",
    "# Memuat dataset\n",
    "df = pd.read_csv('insurance1.csv')\n",
    "df.head()\n",
    "df.info()\n",
    "df.describe()\n",
    "df.isna().sum()\n",
    "\n",
    "# Preprocessing data\n",
    "from sklearn.preprocessing import OrdinalEncoder\n",
    "oe = OrdinalEncoder()\n",
    "\n",
    "# Mengubah kolom 'sex' dan 'smoker' menjadi numerik\n",
    "df[['sex', 'smoker']] = oe.fit_transform(df[['sex', 'smoker']])\n",
    "df[['sex', 'smoker']] = df[['sex', 'smoker']].astype(int)\n",
    "df.head()\n",
    "\n",
    "# Membagi data menjadi fitur (features) dan target (charges)\n",
    "target = df['charges']\n",
    "features = df.drop(columns=['charges'])\n",
    "\n",
    "# Standarisasi fitur\n",
    "from sklearn.preprocessing import StandardScaler\n",
    "sc = StandardScaler()\n",
    "features = sc.fit_transform(features)\n",
    "pd.DataFrame(features[:5])\n",
    "\n",
    "# Membagi dataset menjadi data latih dan uji\n",
    "from sklearn.model_selection import train_test_split\n",
    "x_train, x_test, y_train, y_test = train_test_split(features, target, shuffle=True, train_size=0.8, random_state=1)\n",
    "print(f\"Jumlah data latih: {len(x_train)}\")\n",
    "print(f\"Jumlah data uji: {len(x_test)}\")\n",
    "\n",
    "# Melatih model regresi linier\n",
    "from sklearn.linear_model import LinearRegression\n",
    "model_uas = LinearRegression()\n",
    "model_uas.fit(x_train, y_train)\n",
    "\n",
    "# Mengevaluasi model\n",
    "from sklearn.metrics import r2_score, mean_squared_error\n",
    "pred = model_uas.predict(x_test)\n",
    "print(f\"R-squared Score: {r2_score(y_test, pred):.2f}\")\n",
    "print(f\"Mean Squared Error: {mean_squared_error(y_test, pred):.2f}\")\n",
    "\n",
    "# Menampilkan beberapa hasil prediksi dan nilai asli\n",
    "print(pred[:5])\n",
    "print(y_test[:5])\n",
    "\n",
    "# Menyimpan model dengan pickle\n",
    "import pickle\n",
    "pickle.dump(model_uas, open('model_uas.pkl', 'wb'))\n",
    "\n",
    "# Contoh penggunaan model untuk prediksi\n",
    "age = 27\n",
    "sex = 1  # 1 untuk male, 0 untuk female\n",
    "bmi = 30\n",
    "children = 5\n",
    "smoker = 0  # 1 jika smoker, 0 jika non-smoker\n",
    "\n",
    "# Mengubah input menjadi array dan reshape\n",
    "X = np.array([age, sex, bmi, children, smoker])\n",
    "X = X.reshape(1, -1)\n",
    "\n",
    "# Memuat model yang sudah disimpan\n",
    "loaded_model = pickle.load(open('model_uas.pkl', 'rb'))\n",
    "\n",
    "# Prediksi pembayaran premi\n",
    "charger_pred = loaded_model.predict(X)\n",
    "\n",
    "# Menampilkan hasil prediksi\n",
    "print(\"Prediksi Pembayaran premi: \", charger_pred)\n"
   ]
  },
  {
   "cell_type": "code",
   "execution_count": 39,
   "id": "3b220210",
   "metadata": {},
   "outputs": [
    {
     "name": "stdout",
     "output_type": "stream",
     "text": [
      "Prediksi Pembayaran premi :  [185728.22113982]\n"
     ]
    }
   ],
   "source": [
    "#hasil setelah disubmit\n",
    "print(\"Prediksi Pembayaran premi : \",charger_pred)"
   ]
  },
  {
   "cell_type": "markdown",
   "id": "86cfe19b",
   "metadata": {},
   "source": [
    "---"
   ]
  }
 ],
 "metadata": {
  "kernelspec": {
   "display_name": "Python 3 (ipykernel)",
   "language": "python",
   "name": "python3"
  },
  "language_info": {
   "codemirror_mode": {
    "name": "ipython",
    "version": 3
   },
   "file_extension": ".py",
   "mimetype": "text/x-python",
   "name": "python",
   "nbconvert_exporter": "python",
   "pygments_lexer": "ipython3",
   "version": "3.11.7"
  },
  "papermill": {
   "default_parameters": {},
   "duration": 27.884539,
   "end_time": "2021-08-16T11:08:53.873893",
   "environment_variables": {},
   "exception": null,
   "input_path": "__notebook__.ipynb",
   "output_path": "__notebook__.ipynb",
   "parameters": {},
   "start_time": "2021-08-16T11:08:25.989354",
   "version": "2.3.3"
  }
 },
 "nbformat": 4,
 "nbformat_minor": 5
}
